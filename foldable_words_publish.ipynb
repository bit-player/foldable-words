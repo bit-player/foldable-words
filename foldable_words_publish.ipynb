{
 "cells": [
  {
   "cell_type": "markdown",
   "metadata": {},
   "source": [
    "# Foldable Words\n",
    "\n",
    "by Brian Hayes\n",
    "\n",
    "The code provided here accompanies an article, “Foldable Words,” published in February 2021 on [bit-player](http://bit-player.org/2021/foldable-words). The code is released under an MIT license.\n",
    "\n",
    "The aim is to answer this question: Given a source text—a string of letters—what words and phrases can be formed by deleting selected letters, and then closing up the spaces between the remaining characters. We call this operating _folding_, since it can be accomplished by making folds in a strip of paper so that the deleted letters are tucked away out of sight. For example, the text “It’s a pleasure to serve you” can be folded to say “I love you.”\n",
    "\n",
    "Throughout this discussion we ignore all whitespace, punctuation, and capitalization in the text. "
   ]
  },
  {
   "cell_type": "code",
   "execution_count": null,
   "metadata": {
    "execution": {
     "iopub.execute_input": "2020-12-16T18:30:36.125Z",
     "iopub.status.busy": "2020-12-16T18:30:36.111Z",
     "iopub.status.idle": "2020-12-16T18:30:37.221Z",
     "shell.execute_reply": "2020-12-16T18:30:37.236Z"
    }
   },
   "outputs": [],
   "source": [
    "# for more compact output of lists\n",
    "\n",
    "%pprint   # Pretty printing is on by default in Jupyter notebooks. Execute\n",
    "          # this cell to turn it off. The command is a toggle: running it\n",
    "          # a second time will turn pretty printing on again."
   ]
  },
  {
   "cell_type": "code",
   "execution_count": null,
   "metadata": {
    "collapsed": false,
    "execution": {
     "iopub.execute_input": "2020-12-16T18:30:36.125Z",
     "iopub.status.busy": "2020-12-16T18:30:36.111Z",
     "iopub.status.idle": "2020-12-16T18:30:37.221Z",
     "shell.execute_reply": "2020-12-16T18:30:37.236Z"
    },
    "jupyter": {
     "outputs_hidden": false
    }
   },
   "outputs": [],
   "source": [
    "import re       # regular expressions\n",
    "\n",
    "import random   # for random sampling\n",
    "\n",
    "from IPython.core.display import display, HTML   # for formatting output"
   ]
  },
  {
   "cell_type": "markdown",
   "metadata": {},
   "source": [
    "### Word Lists\n",
    "\n",
    "You need at least one list of words to do anything useful with these programs. I recommend some version of the lists used by Scrabble players, such as Collins Scrabble Words or SOWPODS. Distribution of these lists is restricted by copyright, but they are available nonetheless.\n",
    "\n",
    "One alternative to the Scrabble lists is the Unix word list, preinstalled on most Unix or Unix-derived systems.\n",
    "\n",
    "If you have installed the Natural Language Toolkit, you can access a word list at nltk.corpus.words.words(). (This list is identical to the Unix words list with six additions.)\n",
    "\n",
    "Other lists (including some Scrabble lists) are available through Peter Norvig's website https://norvig.com/ngrams/.\n",
    "\n",
    "Whatever the source of the list, it should consist of plain text with one word per line."
   ]
  },
  {
   "cell_type": "code",
   "execution_count": null,
   "metadata": {},
   "outputs": [],
   "source": [
    "# Load a word list. Replace the argument 'words.txt' with the path to the file.\n",
    "\n",
    "wordfile = open('words.txt')\n",
    "lexicon = wordfile.read().splitlines()\n",
    "lexicon = [w.lower() for w in lexicon]     # convert any Caps to lower case\n",
    "lexicon = sorted(list(set(lexicon)))       # de-duplicate, then sort\n",
    "len(lexicon)                               # return length of the list"
   ]
  },
  {
   "cell_type": "code",
   "execution_count": null,
   "metadata": {},
   "outputs": [],
   "source": [
    "# Strip the source text of any characters outside the set [a-z].\n",
    "# Example: \"It's a pleasure to serve you.\" ==> \"itsapleasuretoserveyou\"\n",
    "\n",
    "def normalize(text):\n",
    "    text = text.lower()\n",
    "    return ''.join(re.findall(r'[a-z]', text))"
   ]
  },
  {
   "cell_type": "markdown",
   "metadata": {},
   "source": [
    "### Preliminary experiments\n",
    "\n",
    "Take random samples of foldable words, and generate all words\n",
    "of a fixed length."
   ]
  },
  {
   "cell_type": "code",
   "execution_count": null,
   "metadata": {},
   "outputs": [],
   "source": [
    "# Generate a random sample of foldable words. Offers a quick-and-dirty\n",
    "# view of typical results.\n",
    "#\n",
    "# Args: text:    the source text, a string\n",
    "#       lexicon: the word list\n",
    "#       k:       length of the words to be generated, integer\n",
    "#       reps:    number of random trials\n",
    "#\n",
    "# The basic idea is to choose k distinct integers in range(0, n-1),\n",
    "# where n is the length of the normalized source text. We then sort\n",
    "# these numbers in ascending order, and use them as indices into the\n",
    "# source text. The letters chosen in this way are assembled into a \n",
    "# string. If that string is present in the lexicon, append it to the\n",
    "# list of results.\n",
    "\n",
    "def randomFoldableWords(text, lexicon, k, reps):\n",
    "    normtext = normalize(text)             # strip out punctuation etc.\n",
    "    n = len(normtext)\n",
    "    findings = []\n",
    "    for i in range(reps):\n",
    "        indices = random.sample(range(n), k) # k distinct values from {0..n-1}\n",
    "        indices.sort()\n",
    "        letters = \"\"\n",
    "        for idx in indices:\n",
    "            letters += normtext[idx]\n",
    "        if letters in lexicon:\n",
    "            findings.append(letters)\n",
    "    return findings"
   ]
  },
  {
   "cell_type": "code",
   "execution_count": null,
   "metadata": {},
   "outputs": [],
   "source": [
    "# Generate all foldable words of exactly three letters.\n",
    "# A model of how to do it, but it doesn't scale well to\n",
    "# longer words.\n",
    "\n",
    "\n",
    "def foldableStrings3(lexicon, text):\n",
    "    normtext = normalize(text)\n",
    "    n = len(normtext)\n",
    "    words = []\n",
    "    for i in range(0, n-2):\n",
    "        for j in range(i+1, n-1):\n",
    "            for k in range(j+1, n):\n",
    "                s = normtext[i] + normtext[j] + normtext[k]\n",
    "                if s in lexicon:\n",
    "                    words.append(s)\n",
    "    return(words)"
   ]
  },
  {
   "cell_type": "markdown",
   "metadata": {},
   "source": [
    "### Generate All Foldable Substrings by Counting\n",
    "\n",
    "The set of all foldable strings from a text of $N$ characters has a one-to-one mapping onto the set of $N$-bit binary numerals. Thus we can generate the strings by counting from 0 to $2^N - 1$, and choosing letters that correspond to the 1 bits in the binary representation of each number. (This idea works, but it's inefficient, since very few of the generated strings turn out to be English words.)"
   ]
  },
  {
   "cell_type": "code",
   "execution_count": null,
   "metadata": {},
   "outputs": [],
   "source": [
    "# Given a number n, return an array listing the digit positions where\n",
    "# the binary representation on n has a 1 bit. The binary numeral is\n",
    "# zero-padded on the left to width bits. \n",
    "\n",
    "def positionsOf1Bits(n, width):\n",
    "    cursor = 0\n",
    "    positions = []\n",
    "    for i in range(width):\n",
    "        if n & 1 == 1:               # bitwise AND with LSB\n",
    "            positions.append(cursor)\n",
    "        cursor += 1\n",
    "        n = n >> 1                   # shift right by one bit\n",
    "    return(positions)"
   ]
  },
  {
   "cell_type": "code",
   "execution_count": null,
   "metadata": {},
   "outputs": [],
   "source": [
    "# Use the binary counting method to generate all possible ordered\n",
    "# substrings of the source text, then search for each such string\n",
    "# in the lexicon.\n",
    "\n",
    "\n",
    "def foldablesByCounting(lexicon, text):\n",
    "    normtext = normalize(text)\n",
    "    n = len(normtext)\n",
    "    words = []\n",
    "    for i in range(2**n - 1):\n",
    "        charSeq = ''\n",
    "        positions = positionsOf1Bits(i, n)\n",
    "        for p in positions:\n",
    "            charSeq += normtext[p]\n",
    "        if charSeq in lexicon:\n",
    "            words.append(charSeq)\n",
    "    return(words)"
   ]
  },
  {
   "cell_type": "markdown",
   "metadata": {},
   "source": [
    "### The Inverse Method: Attempt to Fold Each Known Word\n",
    "\n",
    "Instead of generating $2^N$ foldable strings and testing each one against the lexicon, take each word in the lexicon and test to see if it can be folded from the source text. Since the lexicon is smaller than $2^N$ for interesting values of $N$, this procedure should be more efficient. It is made even faster by prefiltering the lexicon to remove words that include letters not in the source text."
   ]
  },
  {
   "cell_type": "code",
   "execution_count": null,
   "metadata": {
    "execution": {
     "iopub.execute_input": "2020-12-16T18:30:42.314Z",
     "iopub.status.busy": "2020-12-16T18:30:42.303Z",
     "iopub.status.idle": "2020-12-16T18:30:42.335Z",
     "shell.execute_reply": "2020-12-16T18:30:42.346Z"
    }
   },
   "outputs": [],
   "source": [
    "# Predicate: Return True iff all characters in word w are\n",
    "#            present in character set cset. (We needn't\n",
    "#            consider w if this test fails.)\n",
    "\n",
    "def wordCharset(w, cset):\n",
    "    for c in w:\n",
    "        if c not in cset:\n",
    "            return(False)\n",
    "    return(True)"
   ]
  },
  {
   "cell_type": "code",
   "execution_count": null,
   "metadata": {},
   "outputs": [],
   "source": [
    "# Predicate: Return True iff word can be formed by folding the given text.\n",
    "\n",
    "def wordIsFoldable(word, text):\n",
    "    normtext = normalize(text)\n",
    "    t = 0                      # pointer to positions in normtext\n",
    "    w = 0                      # pointer to positions in word\n",
    "    while t < len(normtext):\n",
    "        if word[w] == normtext[t]:  # matching chars in word and text\n",
    "            w += 1                  # move to next char in word\n",
    "        if w == len(word):          # we have matched all chars in word\n",
    "            return(True)            # so: thumbs up\n",
    "        t += 1                 # move to next char in text\n",
    "    return(False)              # fell off the end of the text: thumbs down"
   ]
  },
  {
   "cell_type": "code",
   "execution_count": null,
   "metadata": {},
   "outputs": [],
   "source": [
    "# Simple sequential-search implementation. Returns a list\n",
    "# of all foldable words in text. (The list will be alphabetized\n",
    "# if the lexicon is.)\n",
    "\n",
    "# NOTE: This procedure returns a list of foldable words without\n",
    "# duplicates. Some words can be formed in more than one way, but\n",
    "# that fact is not signalled here.\n",
    "\n",
    "def searchFoldableWords_Sequential(lexicon, text):\n",
    "    normtext = normalize(text)\n",
    "    cset = set(normtext)                                               # the characters appearing in normtext\n",
    "    candidates = [w for w in lexicon if wordCharset(w, cset)]          # keep only words formed entirely from chars in cset\n",
    "    foldables = [w for w in candidates if wordIsFoldable(w, normtext)] # list all candidates that pass the foldability test\n",
    "    return(foldables)"
   ]
  },
  {
   "cell_type": "markdown",
   "metadata": {},
   "source": [
    "### Indexed Inverse Method\n",
    "\n",
    "The searchFoldableWords_Sequential procedure spends most of its time making many repeated sequential searches through the text, looking for the same characters over and over. We can speed things up by precomputing the positions of all the letters in the text, then using this index to go directly to the correct position for each successive character in a word.\n",
    "\n",
    "This procedure also allows us to detect multiple foldings that produce the same words, and to sort the word instances into groups according to their position in the text."
   ]
  },
  {
   "cell_type": "code",
   "execution_count": null,
   "metadata": {},
   "outputs": [],
   "source": [
    "# Given a character and a normalized text, return a list of all\n",
    "# the positions in the text where the character appears. For example,\n",
    "# findLocations('s', \"itsapleasuretoserveyou\") returns [2, 8, 14]\n",
    "\n",
    "def findLocations(char, normtext):\n",
    "    locations = []\n",
    "    for i in range(len(normtext)):\n",
    "        if normtext[i] == char:\n",
    "            locations.append(i)\n",
    "    return locations"
   ]
  },
  {
   "cell_type": "code",
   "execution_count": null,
   "metadata": {},
   "outputs": [],
   "source": [
    "# Creates and returns an index to character positions in the given\n",
    "# text. The index is a Python dictionary whose keys are the characters\n",
    "# present in the text; the value associated with each key is the \n",
    "# corresponding list of character positions. For example,\n",
    "# makeTextIndex(\"Mississippi\") returns:\n",
    "#   {'i': [1, 4, 7, 10], 'p': [8, 9], 'm': [0], 's': [2, 3, 5, 6]}\n",
    "# (The order of the entries is unspecified in a Python dictionary.)\n",
    "\n",
    "def makeTextIndex(text):\n",
    "    normtext = normalize(text)\n",
    "    charset = set(normtext)\n",
    "    index = {}\n",
    "    for c in charset:\n",
    "        index[c] = findLocations(c, normtext)\n",
    "    return index"
   ]
  },
  {
   "cell_type": "code",
   "execution_count": null,
   "metadata": {},
   "outputs": [],
   "source": [
    "# Using a precomputed index into the source text, attempt\n",
    "# to fold the text to produce the given word w. The start\n",
    "# parameter tells us where in the text to begin. The procedure\n",
    "# is greedy: It will find the first or shortest instance of the \n",
    "# word following the starting point.\n",
    "\n",
    "# The returned value is a list of indices into the text, giving\n",
    "# the positions of each letter of the word w. If the word is\n",
    "# not foldable, return False.\n",
    "\n",
    "# Example: tryToFoldWord_Indexed(\"see\", makeTextIndex(\"It's a pleasure to serve you\"), 0)  ==> [2, 6, 11]\n",
    "#          tryToFoldWord_Indexed(\"see\", makeTextIndex(\"It's a pleasure to serve you\"), 12) ==> [14, 15, 18]\n",
    "\n",
    "def tryToFoldWord_Indexed(w, index, start):\n",
    "    cursor = start                   # pointer into the text\n",
    "    seqOfIndices = []\n",
    "    for c in w:\n",
    "        locations = index[c]         # list of locations where char c appears\n",
    "        for loc in locations:\n",
    "            if loc >= cursor:        # exclude locations we have already passed by\n",
    "                seqOfIndices.append(loc)\n",
    "                cursor = loc + 1     # move to next position in text\n",
    "                break                # back to the outer loop for next c in w\n",
    "    if len(seqOfIndices) < len(w):\n",
    "        return False                 # failed to fold\n",
    "    else:\n",
    "        return seqOfIndices       "
   ]
  },
  {
   "cell_type": "code",
   "execution_count": null,
   "metadata": {},
   "outputs": [],
   "source": [
    "# Now we loop through all the candidate words (those with the right character set),\n",
    "# and try to fold each one, using the index. The words found are grouped according\n",
    "# to their starting position in the text. The wantHTML parameter determines whether\n",
    "# or not to format the output.\n",
    "\n",
    "# Multiple instances of the same word are recorded if the instances are disjoint, or\n",
    "# nonoverlapping. See note below for more on this issue.\n",
    "\n",
    "# The raw output is a list of lists, one inner list for each character position\n",
    "# in the text. Each of these inner lists includes all the words that begin at\n",
    "# that position. The elements of the inner lists are tuples made up of the\n",
    "# foldable word itself and an integer representing its ending position.\n",
    "\n",
    "# Example: searchFoldableWords_Indexed(lexicon, \"straw \", False) yields\n",
    "# this raw output:\n",
    "# [[('saw', 4), ('st', 1), ('staw', 4), ('straw', 4)], [('ta', 3), ('taw', 4)], [('raw', 4)], [('a', 3), ('aw', 4)], []]\n",
    "\n",
    "# For comments on HTML formatted output, see below.\n",
    "\n",
    "def searchFoldableWords_Indexed(lexicon, text, wantHTML=True):\n",
    "    normtext = normalize(text)\n",
    "    cset = set(normtext)\n",
    "    ix = makeTextIndex(normtext)\n",
    "    candidates = [w for w in lexicon if wordCharset(w, cset)]\n",
    "    \n",
    "    foldables = []                                                     # create a list of empty lists,\n",
    "    for position in range(len(normtext)):                              # one for each character position\n",
    "        foldables.append([])                                           # in the text\n",
    "        \n",
    "    for w in candidates:                                                  # loop through all candidate words\n",
    "        for startingPoint in ix[w[0]]:                                    # start with first occurrence of word's first letter\n",
    "            seqOfIndices = tryToFoldWord_Indexed(w, ix, startingPoint)    # go try to fold the word from this starting point\n",
    "            if seqOfIndices:                                              # if successful...\n",
    "                foldables[seqOfIndices[0]].append((w, seqOfIndices[-1]))  # take the inner list indexed by the position of the\n",
    "                                                                          #    word's first letter, and append a tuple formed\n",
    "                                                                          #    from the word itself and the position of its\n",
    "                                                                          #    last letter. ([-1] designates the last element\n",
    "                                                                          #    of a list.)\n",
    "    \n",
    "    if wantHTML:                                               # if formatting is wanted, call formatGroupLists;\n",
    "        return(HTML(\" \".join(formatGroupLists(foldables))))\n",
    "    else:                                                      # otherwise return the raw list of lists of tuples\n",
    "        return(foldables)"
   ]
  },
  {
   "cell_type": "markdown",
   "metadata": {},
   "source": [
    "### A Note on Multiple Word Instances\n",
    "\n",
    "\"It's a pleasure to serve you,\" can be folded in six ways to form the word \"see\":\n",
    "\n",
    "1. <code><span style=\"color: #aaa\">it</span><strong>s</strong><span style=\"color: #aaa\">apl</span><strong>e</strong><span style=\"color: #aaa\">asur</span><strong>e</strong><span style=\"color: #aaa\">toserveyou</span></code>\n",
    "\n",
    "2. <code><span style=\"color: #aaa\">it</span><strong>s</strong><span style=\"color: #aaa\">apl</span><strong>e</strong><span style=\"color: #aaa\">asure</span><span style=\"color: #aaa\">tos</span><strong>e</strong><span style=\"color: #aaa\">rveyou</span></code>\n",
    "\n",
    "3. <code><span style=\"color: #aaa\">it</span><strong>s</strong><span style=\"color: #aaa\">apl</span><strong>e</strong><span style=\"color: #aaa\">asure</span><span style=\"color: #aaa\">toserv</span><strong>e</strong><span style=\"color: #aaa\">you</span></code>\n",
    "\n",
    "4. <code><span style=\"color: #aaa\">itsaplea</span><strong>s</strong><span style=\"color: #aaa\">ur</span><strong>e</strong><span style=\"color: #aaa\">tos</span><strong>e</strong><span style=\"color: #aaa\">rveyou</span></code>\n",
    "\n",
    "5. <code><span style=\"color: #aaa\">itsaplea</span><strong>s</strong><span style=\"color: #aaa\">ur</span><strong>e</strong><span style=\"color: #aaa\">toserv</span><strong>e</strong><span style=\"color: #aaa\">you</span></code>\n",
    "\n",
    "6. <code><span style=\"color: #aaa\">itsapleasureto</span><strong>se</strong><span style=\"color: #aaa\">rv</span><strong>e</strong><span style=\"color: #aaa\">you</span></code>\n",
    "\n",
    "The procedure presented here finds instances 1, 4, and 6, but not 2, 3, and 5. I maintain this is correct behavior, given the aim of combining the foldable words into phrases or sentences. There may be occasions to favor a word instance that falls toward the beginning or the end of the text, or in the middle. But there is never a reason to favor a less-compact instance—one that covers a larger span of the text, and thereby precludes the use of more letters in other folded words."
   ]
  },
  {
   "cell_type": "code",
   "execution_count": null,
   "metadata": {},
   "outputs": [],
   "source": [
    "# Convert the raw output of searchFoldableWords_Indexed to a more readable HTML format.\n",
    "\n",
    "# Each list of foldable words is sorted in ascending order of the word's final letter, \n",
    "# which is given as the second element of each tuple, i.e., tp[1]. Then each tuple is\n",
    "# converted to a string consisting of the word followed by a subscript numeral, representing\n",
    "# the final character index. We then prepend a group number to each list, wrap the list\n",
    "# in paragraph tags, and assemble it into one big string, with the words separated by\n",
    "# spaces.\n",
    "\n",
    "\n",
    "def formatGroupLists(foldables):\n",
    "    for i in range(len(foldables)):\n",
    "        foldables[i].sort(key = lambda tp: tp[1])\n",
    "        foldables[i] = list(map(lambda tp: tp[0] + \"<sub>\" + str(tp[1]) + \"</sub>\", foldables[i]))\n",
    "        foldables[i].insert(0, \"<p class='undent' style='margin-bottom: 6pt;'><b>Group \" + str(i) + \":</b>\")\n",
    "        foldables[i].append(\"</p>\")\n",
    "        foldables[i] = \" \".join(foldables[i])\n",
    "    return(foldables)"
   ]
  },
  {
   "cell_type": "markdown",
   "metadata": {},
   "source": [
    "### Sample Outputs\n",
    "\n",
    "The examples below were all generated with a word list based on the 2015 edition of Collins Scrabble Words, to which I have added the three one-letter words _a_, _I,_ and _O_. Other word lists will give somewhat different results. "
   ]
  },
  {
   "cell_type": "code",
   "execution_count": 19,
   "metadata": {},
   "outputs": [
    {
     "data": {
      "text/plain": [
       "['leaser', 'paster', 'slatey', 'eatery', 'saeter', 'taster', 'sleets', 'storey', 'salses', 'pastor', 'plaste', 'plaste', 'paster', 'tapets', 'islets', 'slater', 'pastor', 'stereo', 'setose', 'setose', 'slater', 'seater', 'slatey', 'paseos']"
      ]
     },
     "execution_count": 19,
     "metadata": {},
     "output_type": "execute_result"
    }
   ],
   "source": [
    "# Randomized procedure: Expect every run to produce different output.\n",
    "\n",
    "randomFoldableWords(\"It's a please to serve you.\", lexicon, 6, 10000)"
   ]
  },
  {
   "cell_type": "code",
   "execution_count": 20,
   "metadata": {},
   "outputs": [
    {
     "data": {
      "text/plain": [
       "['its', 'ita', 'ita', 'its', 'its', 'iso', 'iso', 'iso', 'iso', 'ire', 'ire', 'ire', 'its', 'ios', 'iso', 'ire', 'ivy', 'tap', 'tae', 'tas', 'tau', 'tar', 'tae', 'tat', 'tao', 'tas', 'tae', 'tar', 'tav', 'tae', 'tay', 'tao', 'tau', 'tea', 'tes', 'tee', 'tet', 'tes', 'tee', 'tee', 'tas', 'tau', 'tar', 'tae', 'tat', 'tao', 'tas', 'tae', 'tar', 'tav', 'tae', 'tay', 'tao', 'tau', 'tut', 'try', 'tet', 'tes', 'tee', 'tee', 'toe', 'tor', 'toe', 'toy', 'too', 'tee', 'try', 'sap', 'sal', 'sae', 'sau', 'sar', 'sae', 'sat', 'sae', 'sar', 'sav', 'sae', 'say', 'sau', 'spa', 'spy', 'sly', 'sea', 'ser', 'see', 'set', 'see', 'ser', 'see', 'sey', 'sau', 'sar', 'sae', 'sat', 'sae', 'sar', 'sav', 'sae', 'say', 'sau', 'sur', 'sue', 'sus', 'sue', 'sur', 'sue', 'set', 'see', 'ser', 'see', 'sey', 'sty', 'sos', 'sov', 'soy', 'sou', 'ser', 'see', 'sey', 'sey', 'sou', 'ape', 'ape', 'apt', 'apo', 'ape', 'ape', 'apo', 'ale', 'ala', 'als', 'alu', 'ale', 'alt', 'als', 'ale', 'ale', 'alu', 'aas', 'aas', 'ass', 'aue', 'aue', 'aue', 'are', 'art', 'ars', 'are', 'are', 'ary', 'ats', 'ate', 'ate', 'are', 'ary', 'ave', 'avo', 'ayu', 'plu', 'ply', 'plu', 'pea', 'pes', 'per', 'pee', 'pet', 'pes', 'pee', 'per', 'pee', 'pas', 'par', 'pat', 'pas', 'par', 'pav', 'pay', 'pst', 'pur', 'put', 'pus', 'pur', 'puy', 'pre', 'pro', 'pre', 'pre', 'pry', 'pro', 'pet', 'pes', 'pee', 'per', 'pee', 'pos', 'poo', 'per', 'pee', 'pre', 'pry', 'pro', 'lea', 'les', 'leu', 'lee', 'let', 'les', 'lee', 'lev', 'lee', 'ley', 'leu', 'las', 'lar', 'lat', 'las', 'lar', 'lav', 'lay', 'lur', 'lur', 'luv', 'let', 'les', 'lee', 'lev', 'lee', 'ley', 'leu', 'los', 'lor', 'loy', 'loo', 'lou', 'lev', 'lee', 'ley', 'leu', 'ley', 'leu', 'lou', 'eas', 'eau', 'ear', 'eat', 'eas', 'ear', 'eau', 'est', 'ess', 'ere', 'ers', 'ere', 'err', 'ere', 'ere', 'eve', 'evo', 'ass', 'aue', 'aue', 'aue', 'are', 'art', 'ars', 'are', 'are', 'ary', 'ats', 'ate', 'ate', 'are', 'ary', 'ave', 'avo', 'ayu', 'sur', 'sue', 'sus', 'sue', 'sur', 'sue', 'set', 'see', 'ser', 'see', 'sey', 'sty', 'sos', 'sov', 'soy', 'sou', 'ser', 'see', 'sey', 'sey', 'sou', 'ure', 'ure', 'ure', 'uey', 'uts', 'ute', 'ute', 'utu', 'use', 'use', 'uey', 'ure', 'uey', 'ret', 'reo', 'res', 'ree', 'rev', 'ree', 'reo', 'roe', 'roe', 'roo', 'rev', 'ree', 'reo', 'reo', 'ere', 'eve', 'evo', 'toe', 'tor', 'toe', 'toy', 'too', 'tee', 'try', 'ose', 'ose', 'ore', 'ser', 'see', 'sey', 'sey', 'sou', 'ere', 'eve', 'evo', 'reo', 'you']"
      ]
     },
     "execution_count": 20,
     "metadata": {},
     "output_type": "execute_result"
    }
   ],
   "source": [
    "foldableStrings3(lexicon, \"It's a pleasure to serve you.\")"
   ]
  },
  {
   "cell_type": "code",
   "execution_count": 21,
   "metadata": {},
   "outputs": [
    {
     "data": {
      "text/plain": [
       "['i', 'it', 'is', 'its', 'a', 'ta', 'ita', 'tap', 'sap', 'al', 'sal', 'te', 'ae', 'tae', 'sae', 'pe', 'ape', 'tape', 'isle', 'ale', 'tale', 'sale', 'a', 'ta', 'ita', 'aa', 'pa', 'spa', 'tapa', 'la', 'ala', 'tala', 'ea', 'tea', 'sea', 'pea', 'lea', 'ilea', 'talea', 'plea', 'is', 'its', 'as', 'tas', 'itas', 'taps', 'saps', 'als', 'sals', 'es', 'tes', 'taes', 'pes', 'apes', 'tapes', 'les', 'isles', 'ales', 'tales', 'sales', 'as', 'tas', 'itas', 'aas', 'pas', 'spas', 'tapas', 'las', 'alas', 'talas', 'eas', 'teas', 'seas', 'peas', 'leas', 'pleas', 'tau', 'sau', 'tapu', 'alu', 'plu', 'leu', 'tau', 'sau', 'eau', 'ar', 'tar', 'sar', 'tsar', 'er', 'ser', 'per', 'aper', 'taper', 'taler', 'ar', 'tar', 'sar', 'tsar', 'par', 'spar', 'lar', 'alar', 'talar', 'ear', 'tear', 'sear', 'pear', 'spear', 'lear', 'ur', 'sur', 'pur', 'spur', 'lur', 'slur', 'sur', 'te', 'ae', 'tae', 'sae', 'pe', 'ape', 'tape', 'isle', 'ale', 'tale', 'sale', 'ee', 'tee', 'see', 'pee', 'lee', 'slee', 'alee', 'ae', 'tae', 'sae', 'spae', 'slae', 'alae', 'taleae', 'apse', 'salse', 'sese', 'pase', 'lase', 'ease', 'tease', 'sease', 'pease', 'lease', 'please', 'sue', 'aue', 'spue', 'slue', 'salue', 'plue', 'aue', 'sue', 'issue', 're', 'ire', 'are', 'tare', 'pre', 'ere', 'sere', 'pere', 'lere', 'are', 'tare', 'pare', 'spare', 'lare', 'seare', 'peare', 'leare', 'ure', 'iure', 'sure', 'pure', 'lure', 'alure', 'sure', 'seasure', 'leasure', 'pleasure']"
      ]
     },
     "execution_count": 21,
     "metadata": {},
     "output_type": "execute_result"
    }
   ],
   "source": [
    "# Shortened text to avoid excessive running time.\n",
    "\n",
    "foldablesByCounting(lexicon, \"It's a pleasure.\")"
   ]
  },
  {
   "cell_type": "code",
   "execution_count": 24,
   "metadata": {},
   "outputs": [
    {
     "data": {
      "text/plain": [
       "['a', 'aa', 'aas', 'ae', 'aero', 'aeros', 'aery', 'al', 'ala', 'alae', 'alar', 'alary', 'alas', 'alastor', 'alate', 'alay', 'ale', 'aleatory', 'alee', 'alert', 'alerter', 'alerts', 'ales', 'aloe', 'aloo', 'als', 'also', 'alt', 'alter', 'alto', 'altos', 'alts', 'alu', 'alure', 'alures', 'alus', 'apart', 'apay', 'ape', 'aper', 'apers', 'apert', 'apery', 'apes', 'apo', 'apos', 'apres', 'apse', 'apses', 'apso', 'apsos', 'apt', 'apter', 'apts', 'ar', 'are', 'arere', 'ares', 'aret', 'arete', 'arets', 'arose', 'ars', 'arse', 'arsey', 'arsy', 'art', 'artery', 'arts', 'artsy', 'arty', 'arvo', 'ary', 'as', 'ass', 'aster', 'at', 'ate', 'ats', 'aue', 'aures', 'auto', 'autos', 'ave', 'avo', 'ay', 'ayu', 'ea', 'ear', 'ears', 'eas', 'ease', 'easer', 'eases', 'east', 'easter', 'easts', 'easy', 'eat', 'eater', 'eatery', 'eats', 'eau', 'eaus', 'eave', 'ee', 'eery', 'er', 'ere', 'eres', 'erev', 'eros', 'erose', 'err', 'ers', 'es', 'eses', 'ess', 'esse', 'est', 'ester', 'estro', 'ests', 'et', 'euro', 'euros', 'eve', 'evo', 'i', 'ilea', 'ileus', 'io', 'ios', 'ire', 'ires', 'is', 'isle', 'isles', 'islet', 'islets', 'iso', 'isos', 'issue', 'issuer', 'issues', 'it', 'ita', 'itas', 'its', 'iure', 'ivy', 'la', 'laer', 'laevo', 'lar', 'lare', 'laree', 'lares', 'lars', 'las', 'lase', 'laser', 'lases', 'lass', 'lasso', 'lassu', 'last', 'laster', 'lasts', 'lat', 'late', 'later', 'lats', 'latu', 'lav', 'lave', 'lay', 'lea', 'lear', 'leare', 'leares', 'lears', 'leary', 'leas', 'lease', 'leaser', 'leases', 'least', 'leasts', 'leasure', 'leasures', 'leat', 'leats', 'leave', 'leavy', 'lee', 'leer', 'leery', 'lees', 'leese', 'leet', 'leets', 'lere', 'leres', 'les', 'leses', 'less', 'lessee', 'lesser', 'lest', 'lests', 'let', 'lets', 'leu', 'lev', 'leve', 'levo', 'levy', 'ley', 'lo', 'loo', 'lor', 'lore', 'lory', 'los', 'lose', 'loser', 'lou', 'love', 'lovey', 'loy', 'lues', 'lur', 'lure', 'lurer', 'lures', 'lurry', 'lurs', 'lurve', 'luser', 'lute', 'luter', 'luv', 'o', 'oe', 'oo', 'or', 'ore', 'os', 'ose', 'ou', 'oy', 'pa', 'par', 'pare', 'pareo', 'pareos', 'parer', 'pares', 'pareu', 'parev', 'pareve', 'parore', 'parr', 'parry', 'pars', 'parse', 'parser', 'part', 'parter', 'parts', 'party', 'parve', 'parvo', 'pas', 'pase', 'paseo', 'paseos', 'pases', 'pass', 'passe', 'passee', 'passer', 'past', 'paste', 'paster', 'pastor', 'pastry', 'pasts', 'pasty', 'pat', 'pate', 'pater', 'pats', 'patsy', 'patu', 'paty', 'pause', 'pauser', 'pav', 'pave', 'pay', 'pe', 'pea', 'pear', 'peare', 'peares', 'pears', 'peart', 'pearter', 'peas', 'pease', 'peases', 'peat', 'peatery', 'peats', 'peaty', 'peavey', 'peavy', 'pee', 'peeoy', 'peer', 'peery', 'pees', 'peeve', 'per', 'pere', 'peres', 'perry', 'perse', 'pert', 'perter', 'perts', 'perv', 'perve', 'pervy', 'pes', 'peso', 'pesos', 'pest', 'pester', 'pesto', 'pestos', 'pests', 'pesty', 'pet', 'peter', 'petre', 'pets', 'plast', 'plaste', 'plaster', 'plastery', 'plat', 'plate', 'plater', 'plats', 'platy', 'play', 'plea', 'pleas', 'please', 'pleaser', 'pleases', 'pleasure', 'pleasurer', 'pleasures', 'pleat', 'pleater', 'pleats', 'ploy', 'plu', 'plue', 'plues', 'plurry', 'plus', 'ply', 'po', 'poo', 'pore', 'pory', 'pos', 'pose', 'poser', 'posey', 'posy', 'poyou', 'pre', 'pree', 'preeve', 'prese', 'preserve', 'pretor', 'preve', 'prey', 'pro', 'proo', 'prore', 'pros', 'prose', 'proser', 'proso', 'prosy', 'prove', 'pry', 'pst', 'puer', 'pur', 'pure', 'puree', 'purer', 'pures', 'purr', 'purs', 'purse', 'purser', 'pursy', 'purty', 'purvey', 'pus', 'put', 'puts', 'puy', 're', 'ree', 'reeve', 'reo', 'reos', 'res', 'resee', 'reserve', 'ret', 'rete', 'retore', 'retro', 'retry', 'rets', 'rev', 'roe', 'roo', 'rore', 'rory', 'rose', 'rosery', 'rosy', 'rove', 'sae', 'saeter', 'sal', 'salary', 'sale', 'sales', 'salet', 'salets', 'sals', 'salse', 'salses', 'salt', 'salter', 'salto', 'saltos', 'salts', 'salty', 'salue', 'salues', 'salute', 'saluter', 'salve', 'salvo', 'sap', 'sapless', 'sapor', 'saps', 'sar', 'saree', 'saros', 'sars', 'sartor', 'saser', 'sass', 'sasse', 'sassy', 'sat', 'sate', 'sau', 'saury', 'saut', 'saute', 'sauts', 'sav', 'save', 'savey', 'say', 'sea', 'sear', 'seare', 'searer', 'sears', 'seas', 'sease', 'seases', 'seasure', 'seasures', 'seat', 'seater', 'seats', 'see', 'seer', 'sees', 'ser', 'sere', 'serer', 'seres', 'serr', 'serre', 'serry', 'sers', 'serve', 'servo', 'sese', 'sesey', 'sess', 'set', 'setose', 'sets', 'sey', 'slae', 'slaes', 'slart', 'slarts', 'slat', 'slate', 'slater', 'slatey', 'slats', 'slaty', 'slave', 'slavey', 'slay', 'sleave', 'slee', 'sleer', 'sleet', 'sleets', 'sleety', 'sleeve', 'sley', 'sloe', 'slove', 'slue', 'slues', 'slur', 'slurry', 'slurs', 'sluse', 'slut', 'sluts', 'sly', 'so', 'sore', 'sos', 'sou', 'sov', 'soy', 'spa', 'spae', 'spaer', 'spaes', 'spar', 'spare', 'sparer', 'spares', 'sparre', 'sparry', 'spars', 'sparse', 'sparser', 'spart', 'sparts', 'spas', 'spat', 'spate', 'spats', 'spay', 'spear', 'spearer', 'spears', 'speary', 'speat', 'speats', 'speer', 'speos', 'sperre', 'sperse', 'spet', 'spets', 'splat', 'splats', 'splay', 'splore', 'spore', 'spree', 'spry', 'spue', 'spuer', 'spues', 'spur', 'spurrey', 'spurry', 'spurs', 'spurt', 'spurter', 'spurts', 'spy', 'st', 'stere', 'stereo', 'sterve', 'stey', 'store', 'storey', 'story', 'stove', 'sty', 'sue', 'suer', 'sues', 'suet', 'suets', 'suety', 'sur', 'sure', 'surer', 'sures', 'surety', 'surrey', 'survey', 'sus', 'susu', 'sutor', 'ta', 'tae', 'taes', 'tala', 'talar', 'talars', 'talas', 'tale', 'talea', 'taleae', 'taler', 'talers', 'tales', 'talus', 'tao', 'taos', 'tap', 'tapa', 'tapas', 'tape', 'taper', 'taperer', 'tapers', 'tapes', 'tapestry', 'tapet', 'tapets', 'taps', 'tapster', 'tapstry', 'tapu', 'tapus', 'tar', 'tare', 'tares', 'taro', 'taros', 'tarre', 'tarry', 'tars', 'tart', 'tarter', 'tarts', 'tarty', 'tas', 'taser', 'tass', 'tasse', 'taste', 'taster', 'tasty', 'tat', 'tate', 'tater', 'tatou', 'tats', 'tatu', 'tau', 'taus', 'taut', 'tauter', 'tauts', 'tav', 'tay', 'te', 'tea', 'tear', 'tearer', 'tears', 'teary', 'teas', 'tease', 'teaser', 'teases', 'teat', 'teats', 'tee', 'teer', 'tees', 'teeter', 'teres', 'terete', 'terry', 'terse', 'terser', 'terts', 'tes', 'test', 'teste', 'testee', 'tester', 'tests', 'testy', 'tet', 'tete', 'tets', 'to', 'toe', 'toey', 'too', 'tor', 'tore', 'toro', 'tory', 'tose', 'toy', 'toyo', 'tree', 'tres', 'tret', 'trets', 'trey', 'trove', 'troy', 'try', 'tsar', 'tsars', 'tsetse', 'tut', 'tutee', 'tutor', 'tuts', 'tutu', 'uey', 'ur', 'ure', 'ures', 'ureter', 'us', 'use', 'user', 'ut', 'ute', 'uts', 'utu', 'yo', 'you', 'yu']"
      ]
     },
     "execution_count": 24,
     "metadata": {},
     "output_type": "execute_result"
    }
   ],
   "source": [
    "searchFoldableWords_Sequential(lexicon, \"It's a pleasure to serve you.\")"
   ]
  },
  {
   "cell_type": "code",
   "execution_count": 25,
   "metadata": {},
   "outputs": [
    {
     "data": {
      "text/html": [
       "<p class='undent' style='margin-bottom: 6pt;'><b>Group 0:</b> i<sub>0</sub> it<sub>1</sub> is<sub>2</sub> its<sub>2</sub> ita<sub>3</sub> isle<sub>6</sub> ilea<sub>7</sub> isles<sub>8</sub> itas<sub>8</sub> ire<sub>11</sub> issue<sub>11</sub> iure<sub>11</sub> islet<sub>12</sub> io<sub>13</sub> iso<sub>13</sub> ileus<sub>14</sub> ios<sub>14</sub> ires<sub>14</sub> islets<sub>14</sub> isos<sub>14</sub> issues<sub>14</sub> issuer<sub>16</sub> ivy<sub>19</sub> </p> <p class='undent' style='margin-bottom: 6pt;'><b>Group 1:</b> ta<sub>3</sub> tap<sub>4</sub> tae<sub>6</sub> tale<sub>6</sub> tape<sub>6</sub> te<sub>6</sub> tala<sub>7</sub> talea<sub>7</sub> tapa<sub>7</sub> tea<sub>7</sub> taes<sub>8</sub> talas<sub>8</sub> tales<sub>8</sub> tapas<sub>8</sub> tapes<sub>8</sub> taps<sub>8</sub> tas<sub>8</sub> teas<sub>8</sub> tes<sub>8</sub> tapu<sub>9</sub> tau<sub>9</sub> talar<sub>10</sub> taler<sub>10</sub> taper<sub>10</sub> tar<sub>10</sub> tear<sub>10</sub> tsar<sub>10</sub> taleae<sub>11</sub> tare<sub>11</sub> tease<sub>11</sub> tee<sub>11</sub> tapet<sub>12</sub> tart<sub>12</sub> tat<sub>12</sub> taut<sub>12</sub> teat<sub>12</sub> test<sub>12</sub> tet<sub>12</sub> tret<sub>12</sub> tut<sub>12</sub> tao<sub>13</sub> taro<sub>13</sub> to<sub>13</sub> talars<sub>14</sub> talers<sub>14</sub> talus<sub>14</sub> taos<sub>14</sub> tapers<sub>14</sub> tapets<sub>14</sub> tapus<sub>14</sub> tares<sub>14</sub> taros<sub>14</sub> tars<sub>14</sub> tarts<sub>14</sub> tass<sub>14</sub> tats<sub>14</sub> taus<sub>14</sub> tauts<sub>14</sub> tears<sub>14</sub> teases<sub>14</sub> teats<sub>14</sub> tees<sub>14</sub> teres<sub>14</sub> terts<sub>14</sub> tests<sub>14</sub> tets<sub>14</sub> tres<sub>14</sub> trets<sub>14</sub> tsars<sub>14</sub> tuts<sub>14</sub> tasse<sub>15</sub> taste<sub>15</sub> tate<sub>15</sub> terete<sub>15</sub> terse<sub>15</sub> teste<sub>15</sub> tete<sub>15</sub> toe<sub>15</sub> tose<sub>15</sub> tree<sub>15</sub> tsetse<sub>15</sub> taperer<sub>16</sub> tapster<sub>16</sub> tarter<sub>16</sub> taser<sub>16</sub> taster<sub>16</sub> tater<sub>16</sub> tauter<sub>16</sub> tearer<sub>16</sub> teaser<sub>16</sub> teer<sub>16</sub> teeter<sub>16</sub> terser<sub>16</sub> tester<sub>16</sub> tor<sub>16</sub> tutor<sub>16</sub> tav<sub>17</sub> tarre<sub>18</sub> testee<sub>18</sub> tore<sub>18</sub> trove<sub>18</sub> tutee<sub>18</sub> tapestry<sub>19</sub> tapstry<sub>19</sub> tarry<sub>19</sub> tarty<sub>19</sub> tasty<sub>19</sub> tay<sub>19</sub> teary<sub>19</sub> terry<sub>19</sub> testy<sub>19</sub> toey<sub>19</sub> tory<sub>19</sub> toy<sub>19</sub> trey<sub>19</sub> troy<sub>19</sub> try<sub>19</sub> too<sub>20</sub> toro<sub>20</sub> toyo<sub>20</sub> tatou<sub>21</sub> tatu<sub>21</sub> tutu<sub>21</sub> </p> <p class='undent' style='margin-bottom: 6pt;'><b>Group 2:</b> sap<sub>4</sub> sal<sub>5</sub> sae<sub>6</sub> sale<sub>6</sub> sea<sub>7</sub> spa<sub>7</sub> sales<sub>8</sub> sals<sub>8</sub> saps<sub>8</sub> seas<sub>8</sub> spas<sub>8</sub> sau<sub>9</sub> sar<sub>10</sub> sear<sub>10</sub> ser<sub>10</sub> slur<sub>10</sub> spar<sub>10</sub> spear<sub>10</sub> spur<sub>10</sub> sur<sub>10</sub> salse<sub>11</sub> salue<sub>11</sub> seare<sub>11</sub> sease<sub>11</sub> seasure<sub>11</sub> see<sub>11</sub> sere<sub>11</sub> sese<sub>11</sub> slae<sub>11</sub> slee<sub>11</sub> slue<sub>11</sub> spae<sub>11</sub> spare<sub>11</sub> spue<sub>11</sub> sue<sub>11</sub> sure<sub>11</sub> salet<sub>12</sub> salt<sub>12</sub> sat<sub>12</sub> saut<sub>12</sub> seat<sub>12</sub> set<sub>12</sub> slart<sub>12</sub> slat<sub>12</sub> sleet<sub>12</sub> slut<sub>12</sub> spart<sub>12</sub> spat<sub>12</sub> speat<sub>12</sub> spet<sub>12</sub> splat<sub>12</sub> spurt<sub>12</sub> st<sub>12</sub> suet<sub>12</sub> salto<sub>13</sub> so<sub>13</sub> salets<sub>14</sub> salses<sub>14</sub> saltos<sub>14</sub> salts<sub>14</sub> salues<sub>14</sub> sapless<sub>14</sub> saros<sub>14</sub> sars<sub>14</sub> sass<sub>14</sub> sauts<sub>14</sub> sears<sub>14</sub> seases<sub>14</sub> seasures<sub>14</sub> seats<sub>14</sub> sees<sub>14</sub> seres<sub>14</sub> sers<sub>14</sub> sess<sub>14</sub> sets<sub>14</sub> slaes<sub>14</sub> slarts<sub>14</sub> slats<sub>14</sub> sleets<sub>14</sub> slues<sub>14</sub> slurs<sub>14</sub> sluts<sub>14</sub> sos<sub>14</sub> spaes<sub>14</sub> spares<sub>14</sub> spars<sub>14</sub> sparts<sub>14</sub> spats<sub>14</sub> spears<sub>14</sub> speats<sub>14</sub> speos<sub>14</sub> spets<sub>14</sub> splats<sub>14</sub> spues<sub>14</sub> spurs<sub>14</sub> spurts<sub>14</sub> sues<sub>14</sub> suets<sub>14</sub> sures<sub>14</sub> sus<sub>14</sub> salute<sub>15</sub> saree<sub>15</sub> sasse<sub>15</sub> sate<sub>15</sub> saute<sub>15</sub> setose<sub>15</sub> slate<sub>15</sub> sloe<sub>15</sub> sluse<sub>15</sub> sparse<sub>15</sub> spate<sub>15</sub> sperse<sub>15</sub> spree<sub>15</sub> saeter<sub>16</sub> salter<sub>16</sub> saluter<sub>16</sub> sapor<sub>16</sub> sartor<sub>16</sub> saser<sub>16</sub> searer<sub>16</sub> seater<sub>16</sub> seer<sub>16</sub> serer<sub>16</sub> serr<sub>16</sub> slater<sub>16</sub> sleer<sub>16</sub> spaer<sub>16</sub> sparer<sub>16</sub> sparser<sub>16</sub> spearer<sub>16</sub> speer<sub>16</sub> spuer<sub>16</sub> spurter<sub>16</sub> suer<sub>16</sub> surer<sub>16</sub> sutor<sub>16</sub> sav<sub>17</sub> sov<sub>17</sub> salve<sub>18</sub> save<sub>18</sub> serre<sub>18</sub> serve<sub>18</sub> slave<sub>18</sub> sleave<sub>18</sub> sleeve<sub>18</sub> slove<sub>18</sub> sore<sub>18</sub> sparre<sub>18</sub> sperre<sub>18</sub> splore<sub>18</sub> spore<sub>18</sub> stere<sub>18</sub> sterve<sub>18</sub> store<sub>18</sub> stove<sub>18</sub> salary<sub>19</sub> salty<sub>19</sub> sassy<sub>19</sub> saury<sub>19</sub> savey<sub>19</sub> say<sub>19</sub> serry<sub>19</sub> sesey<sub>19</sub> sey<sub>19</sub> slatey<sub>19</sub> slaty<sub>19</sub> slavey<sub>19</sub> slay<sub>19</sub> sleety<sub>19</sub> sley<sub>19</sub> slurry<sub>19</sub> sly<sub>19</sub> soy<sub>19</sub> sparry<sub>19</sub> spay<sub>19</sub> speary<sub>19</sub> splay<sub>19</sub> spry<sub>19</sub> spurrey<sub>19</sub> spurry<sub>19</sub> spy<sub>19</sub> stey<sub>19</sub> storey<sub>19</sub> story<sub>19</sub> sty<sub>19</sub> suety<sub>19</sub> surety<sub>19</sub> surrey<sub>19</sub> survey<sub>19</sub> salvo<sub>20</sub> servo<sub>20</sub> stereo<sub>20</sub> sou<sub>21</sub> susu<sub>21</sub> </p> <p class='undent' style='margin-bottom: 6pt;'><b>Group 3:</b> a<sub>3</sub> al<sub>5</sub> ae<sub>6</sub> ale<sub>6</sub> ape<sub>6</sub> aa<sub>7</sub> ala<sub>7</sub> aas<sub>8</sub> alas<sub>8</sub> ales<sub>8</sub> als<sub>8</sub> apes<sub>8</sub> as<sub>8</sub> alu<sub>9</sub> alar<sub>10</sub> aper<sub>10</sub> ar<sub>10</sub> alae<sub>11</sub> alee<sub>11</sub> alure<sub>11</sub> apse<sub>11</sub> are<sub>11</sub> aue<sub>11</sub> alert<sub>12</sub> alt<sub>12</sub> apart<sub>12</sub> apert<sub>12</sub> apt<sub>12</sub> aret<sub>12</sub> art<sub>12</sub> at<sub>12</sub> aero<sub>13</sub> also<sub>13</sub> alto<sub>13</sub> apo<sub>13</sub> apso<sub>13</sub> auto<sub>13</sub> aeros<sub>14</sub> alerts<sub>14</sub> altos<sub>14</sub> alts<sub>14</sub> alures<sub>14</sub> alus<sub>14</sub> apers<sub>14</sub> apos<sub>14</sub> apres<sub>14</sub> apses<sub>14</sub> apsos<sub>14</sub> apts<sub>14</sub> ares<sub>14</sub> arets<sub>14</sub> ars<sub>14</sub> arts<sub>14</sub> ass<sub>14</sub> ats<sub>14</sub> aures<sub>14</sub> autos<sub>14</sub> alate<sub>15</sub> aloe<sub>15</sub> arete<sub>15</sub> arose<sub>15</sub> arse<sub>15</sub> ate<sub>15</sub> alastor<sub>16</sub> alerter<sub>16</sub> alter<sub>16</sub> apter<sub>16</sub> aster<sub>16</sub> arere<sub>18</sub> ave<sub>18</sub> aery<sub>19</sub> alary<sub>19</sub> alay<sub>19</sub> aleatory<sub>19</sub> apay<sub>19</sub> apery<sub>19</sub> arsey<sub>19</sub> arsy<sub>19</sub> artery<sub>19</sub> artsy<sub>19</sub> arty<sub>19</sub> ary<sub>19</sub> ay<sub>19</sub> aloo<sub>20</sub> arvo<sub>20</sub> avo<sub>20</sub> ayu<sub>21</sub> </p> <p class='undent' style='margin-bottom: 6pt;'><b>Group 4:</b> pe<sub>6</sub> pa<sub>7</sub> pea<sub>7</sub> plea<sub>7</sub> pas<sub>8</sub> peas<sub>8</sub> pes<sub>8</sub> pleas<sub>8</sub> plu<sub>9</sub> par<sub>10</sub> pear<sub>10</sub> per<sub>10</sub> pur<sub>10</sub> pare<sub>11</sub> pase<sub>11</sub> peare<sub>11</sub> pease<sub>11</sub> pee<sub>11</sub> pere<sub>11</sub> please<sub>11</sub> pleasure<sub>11</sub> plue<sub>11</sub> pre<sub>11</sub> pure<sub>11</sub> part<sub>12</sub> past<sub>12</sub> pat<sub>12</sub> peart<sub>12</sub> peat<sub>12</sub> pert<sub>12</sub> pest<sub>12</sub> pet<sub>12</sub> plast<sub>12</sub> plat<sub>12</sub> pleat<sub>12</sub> pst<sub>12</sub> put<sub>12</sub> pareo<sub>13</sub> paseo<sub>13</sub> peso<sub>13</sub> pesto<sub>13</sub> po<sub>13</sub> pro<sub>13</sub> pareos<sub>14</sub> pares<sub>14</sub> pars<sub>14</sub> parts<sub>14</sub> paseos<sub>14</sub> pases<sub>14</sub> pass<sub>14</sub> pasts<sub>14</sub> pats<sub>14</sub> peares<sub>14</sub> pears<sub>14</sub> peases<sub>14</sub> peats<sub>14</sub> pees<sub>14</sub> peres<sub>14</sub> perts<sub>14</sub> pesos<sub>14</sub> pestos<sub>14</sub> pests<sub>14</sub> pets<sub>14</sub> plats<sub>14</sub> pleases<sub>14</sub> pleasures<sub>14</sub> pleats<sub>14</sub> plues<sub>14</sub> plus<sub>14</sub> pos<sub>14</sub> pros<sub>14</sub> pures<sub>14</sub> purs<sub>14</sub> pus<sub>14</sub> puts<sub>14</sub> parse<sub>15</sub> passe<sub>15</sub> paste<sub>15</sub> pate<sub>15</sub> pause<sub>15</sub> perse<sub>15</sub> plaste<sub>15</sub> plate<sub>15</sub> pose<sub>15</sub> pree<sub>15</sub> prese<sub>15</sub> prose<sub>15</sub> puree<sub>15</sub> purse<sub>15</sub> parer<sub>16</sub> parr<sub>16</sub> parser<sub>16</sub> parter<sub>16</sub> passer<sub>16</sub> paster<sub>16</sub> pastor<sub>16</sub> pater<sub>16</sub> pauser<sub>16</sub> pearter<sub>16</sub> peer<sub>16</sub> perter<sub>16</sub> pester<sub>16</sub> peter<sub>16</sub> plaster<sub>16</sub> plater<sub>16</sub> pleaser<sub>16</sub> pleasurer<sub>16</sub> pleater<sub>16</sub> poser<sub>16</sub> pretor<sub>16</sub> proser<sub>16</sub> puer<sub>16</sub> purer<sub>16</sub> purr<sub>16</sub> purser<sub>16</sub> parev<sub>17</sub> pav<sub>17</sub> perv<sub>17</sub> pareve<sub>18</sub> parore<sub>18</sub> parve<sub>18</sub> passee<sub>18</sub> pave<sub>18</sub> peeve<sub>18</sub> perve<sub>18</sub> petre<sub>18</sub> pore<sub>18</sub> preeve<sub>18</sub> preserve<sub>18</sub> preve<sub>18</sub> prore<sub>18</sub> prove<sub>18</sub> parry<sub>19</sub> party<sub>19</sub> pastry<sub>19</sub> pasty<sub>19</sub> patsy<sub>19</sub> paty<sub>19</sub> pay<sub>19</sub> peatery<sub>19</sub> peaty<sub>19</sub> peavey<sub>19</sub> peavy<sub>19</sub> peeoy<sub>19</sub> peery<sub>19</sub> perry<sub>19</sub> pervy<sub>19</sub> pesty<sub>19</sub> plastery<sub>19</sub> platy<sub>19</sub> play<sub>19</sub> ploy<sub>19</sub> plurry<sub>19</sub> ply<sub>19</sub> pory<sub>19</sub> posey<sub>19</sub> posy<sub>19</sub> prey<sub>19</sub> prosy<sub>19</sub> pry<sub>19</sub> pursy<sub>19</sub> purty<sub>19</sub> purvey<sub>19</sub> puy<sub>19</sub> parvo<sub>20</sub> poo<sub>20</sub> proo<sub>20</sub> proso<sub>20</sub> pareu<sub>21</sub> patu<sub>21</sub> poyou<sub>21</sub> </p> <p class='undent' style='margin-bottom: 6pt;'><b>Group 5:</b> la<sub>7</sub> lea<sub>7</sub> las<sub>8</sub> leas<sub>8</sub> les<sub>8</sub> leu<sub>9</sub> lar<sub>10</sub> lear<sub>10</sub> lur<sub>10</sub> lare<sub>11</sub> lase<sub>11</sub> leare<sub>11</sub> lease<sub>11</sub> leasure<sub>11</sub> lee<sub>11</sub> lere<sub>11</sub> lure<sub>11</sub> last<sub>12</sub> lat<sub>12</sub> least<sub>12</sub> leat<sub>12</sub> leet<sub>12</sub> lest<sub>12</sub> let<sub>12</sub> lo<sub>13</sub> lares<sub>14</sub> lars<sub>14</sub> lases<sub>14</sub> lass<sub>14</sub> lasts<sub>14</sub> lats<sub>14</sub> leares<sub>14</sub> lears<sub>14</sub> leases<sub>14</sub> leasts<sub>14</sub> leasures<sub>14</sub> leats<sub>14</sub> lees<sub>14</sub> leets<sub>14</sub> leres<sub>14</sub> leses<sub>14</sub> less<sub>14</sub> lests<sub>14</sub> lets<sub>14</sub> los<sub>14</sub> lues<sub>14</sub> lures<sub>14</sub> lurs<sub>14</sub> laree<sub>15</sub> late<sub>15</sub> leese<sub>15</sub> lose<sub>15</sub> lute<sub>15</sub> laer<sub>16</sub> laser<sub>16</sub> laster<sub>16</sub> later<sub>16</sub> leaser<sub>16</sub> leer<sub>16</sub> lesser<sub>16</sub> lor<sub>16</sub> loser<sub>16</sub> lurer<sub>16</sub> luser<sub>16</sub> luter<sub>16</sub> lav<sub>17</sub> lev<sub>17</sub> luv<sub>17</sub> lave<sub>18</sub> leave<sub>18</sub> lessee<sub>18</sub> leve<sub>18</sub> lore<sub>18</sub> love<sub>18</sub> lurve<sub>18</sub> lay<sub>19</sub> leary<sub>19</sub> leavy<sub>19</sub> leery<sub>19</sub> levy<sub>19</sub> ley<sub>19</sub> lory<sub>19</sub> lovey<sub>19</sub> loy<sub>19</sub> lurry<sub>19</sub> laevo<sub>20</sub> lasso<sub>20</sub> levo<sub>20</sub> loo<sub>20</sub> lassu<sub>21</sub> latu<sub>21</sub> lou<sub>21</sub> </p> <p class='undent' style='margin-bottom: 6pt;'><b>Group 6:</b> ea<sub>7</sub> eas<sub>8</sub> es<sub>8</sub> eau<sub>9</sub> ear<sub>10</sub> er<sub>10</sub> ease<sub>11</sub> ee<sub>11</sub> ere<sub>11</sub> east<sub>12</sub> eat<sub>12</sub> est<sub>12</sub> et<sub>12</sub> euro<sub>13</sub> ears<sub>14</sub> eases<sub>14</sub> easts<sub>14</sub> eats<sub>14</sub> eaus<sub>14</sub> eres<sub>14</sub> eros<sub>14</sub> ers<sub>14</sub> eses<sub>14</sub> ess<sub>14</sub> ests<sub>14</sub> euros<sub>14</sub> erose<sub>15</sub> esse<sub>15</sub> easer<sub>16</sub> easter<sub>16</sub> eater<sub>16</sub> err<sub>16</sub> ester<sub>16</sub> erev<sub>17</sub> eave<sub>18</sub> eve<sub>18</sub> easy<sub>19</sub> eatery<sub>19</sub> eery<sub>19</sub> estro<sub>20</sub> evo<sub>20</sub> </p> <p class='undent' style='margin-bottom: 6pt;'><b>Group 7:</b> a<sub>7</sub> as<sub>8</sub> ar<sub>10</sub> ae<sub>11</sub> are<sub>11</sub> aue<sub>11</sub> aret<sub>12</sub> art<sub>12</sub> at<sub>12</sub> auto<sub>13</sub> ares<sub>14</sub> arets<sub>14</sub> ars<sub>14</sub> arts<sub>14</sub> ass<sub>14</sub> ats<sub>14</sub> aures<sub>14</sub> autos<sub>14</sub> arete<sub>15</sub> arose<sub>15</sub> arse<sub>15</sub> ate<sub>15</sub> aster<sub>16</sub> arere<sub>18</sub> ave<sub>18</sub> aery<sub>19</sub> arsey<sub>19</sub> arsy<sub>19</sub> artery<sub>19</sub> artsy<sub>19</sub> arty<sub>19</sub> ary<sub>19</sub> ay<sub>19</sub> aero<sub>20</sub> arvo<sub>20</sub> avo<sub>20</sub> ayu<sub>21</sub> </p> <p class='undent' style='margin-bottom: 6pt;'><b>Group 8:</b> sur<sub>10</sub> sue<sub>11</sub> sure<sub>11</sub> set<sub>12</sub> st<sub>12</sub> suet<sub>12</sub> so<sub>13</sub> sets<sub>14</sub> sos<sub>14</sub> sues<sub>14</sub> suets<sub>14</sub> sures<sub>14</sub> sus<sub>14</sub> see<sub>15</sub> sese<sub>15</sub> setose<sub>15</sub> seer<sub>16</sub> ser<sub>16</sub> suer<sub>16</sub> surer<sub>16</sub> sutor<sub>16</sub> sov<sub>17</sub> sere<sub>18</sub> serve<sub>18</sub> sore<sub>18</sub> stere<sub>18</sub> sterve<sub>18</sub> store<sub>18</sub> stove<sub>18</sub> sesey<sub>19</sub> sey<sub>19</sub> soy<sub>19</sub> stey<sub>19</sub> storey<sub>19</sub> story<sub>19</sub> sty<sub>19</sub> suety<sub>19</sub> surety<sub>19</sub> surrey<sub>19</sub> survey<sub>19</sub> servo<sub>20</sub> stereo<sub>20</sub> sou<sub>21</sub> susu<sub>21</sub> </p> <p class='undent' style='margin-bottom: 6pt;'><b>Group 9:</b> ur<sub>10</sub> ure<sub>11</sub> ut<sub>12</sub> ures<sub>14</sub> us<sub>14</sub> uts<sub>14</sub> use<sub>15</sub> ute<sub>15</sub> ureter<sub>16</sub> user<sub>16</sub> uey<sub>19</sub> utu<sub>21</sub> </p> <p class='undent' style='margin-bottom: 6pt;'><b>Group 10:</b> re<sub>11</sub> ret<sub>12</sub> reo<sub>13</sub> reos<sub>14</sub> res<sub>14</sub> rets<sub>14</sub> ree<sub>15</sub> rete<sub>15</sub> roe<sub>15</sub> rose<sub>15</sub> rev<sub>17</sub> reeve<sub>18</sub> resee<sub>18</sub> reserve<sub>18</sub> retore<sub>18</sub> rore<sub>18</sub> rove<sub>18</sub> retry<sub>19</sub> rory<sub>19</sub> rosery<sub>19</sub> rosy<sub>19</sub> retro<sub>20</sub> roo<sub>20</sub> </p> <p class='undent' style='margin-bottom: 6pt;'><b>Group 11:</b> et<sub>12</sub> es<sub>14</sub> ee<sub>15</sub> er<sub>16</sub> ere<sub>18</sub> eve<sub>18</sub> eery<sub>19</sub> evo<sub>20</sub> </p> <p class='undent' style='margin-bottom: 6pt;'><b>Group 12:</b> to<sub>13</sub> te<sub>15</sub> toe<sub>15</sub> tose<sub>15</sub> tor<sub>16</sub> tee<sub>18</sub> tore<sub>18</sub> toey<sub>19</sub> tory<sub>19</sub> toy<sub>19</sub> trey<sub>19</sub> try<sub>19</sub> too<sub>20</sub> toro<sub>20</sub> toyo<sub>20</sub> </p> <p class='undent' style='margin-bottom: 6pt;'><b>Group 13:</b> o<sub>13</sub> os<sub>14</sub> oe<sub>15</sub> ose<sub>15</sub> or<sub>16</sub> ore<sub>18</sub> oy<sub>19</sub> oo<sub>20</sub> ou<sub>21</sub> </p> <p class='undent' style='margin-bottom: 6pt;'><b>Group 14:</b> ser<sub>16</sub> see<sub>18</sub> sere<sub>18</sub> serve<sub>18</sub> sey<sub>19</sub> servo<sub>20</sub> so<sub>20</sub> sou<sub>21</sub> </p> <p class='undent' style='margin-bottom: 6pt;'><b>Group 15:</b> er<sub>16</sub> ee<sub>18</sub> ere<sub>18</sub> eve<sub>18</sub> evo<sub>20</sub> </p> <p class='undent' style='margin-bottom: 6pt;'><b>Group 16:</b> re<sub>18</sub> reo<sub>20</sub> </p> <p class='undent' style='margin-bottom: 6pt;'><b>Group 17:</b> </p> <p class='undent' style='margin-bottom: 6pt;'><b>Group 18:</b> </p> <p class='undent' style='margin-bottom: 6pt;'><b>Group 19:</b> yo<sub>20</sub> you<sub>21</sub> yu<sub>21</sub> </p> <p class='undent' style='margin-bottom: 6pt;'><b>Group 20:</b> o<sub>20</sub> ou<sub>21</sub> </p> <p class='undent' style='margin-bottom: 6pt;'><b>Group 21:</b> </p>"
      ],
      "text/plain": [
       "<IPython.core.display.HTML object>"
      ]
     },
     "execution_count": 25,
     "metadata": {},
     "output_type": "execute_result"
    }
   ],
   "source": [
    "searchFoldableWords_Indexed(lexicon, \"It's a pleasure to serve you.\")"
   ]
  }
 ],
 "metadata": {
  "anaconda-cloud": {},
  "kernel_info": {
   "name": "python3"
  },
  "kernelspec": {
   "display_name": "Python 3",
   "language": "python",
   "name": "python3"
  },
  "language_info": {
   "codemirror_mode": {
    "name": "ipython",
    "version": 3
   },
   "file_extension": ".py",
   "mimetype": "text/x-python",
   "name": "python",
   "nbconvert_exporter": "python",
   "pygments_lexer": "ipython3",
   "version": "3.6.9"
  },
  "nteract": {
   "version": "0.26.0"
  }
 },
 "nbformat": 4,
 "nbformat_minor": 4
}
